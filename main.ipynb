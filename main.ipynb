{
 "cells": [
  {
   "cell_type": "code",
   "execution_count": null,
   "id": "027778f3",
   "metadata": {},
   "outputs": [],
   "source": [
    "from matplotlib import pyplot\n",
    "import pandas as pd\n",
    "import numpy as np"
   ]
  },
  {
   "cell_type": "markdown",
   "id": "858973e1",
   "metadata": {},
   "source": [
    "## **Parte 1: Ecuación del calor**"
   ]
  },
  {
   "cell_type": "markdown",
   "id": "5968f892",
   "metadata": {},
   "source": [
    "La función debe devolver una matriz cuya entrada en la posición (i, j) represente la aproximación\n",
    "numérica de la solución en el instante de tiempo t = i · ∆t y en la posición espacial x = j · ∆x."
   ]
  },
  {
   "cell_type": "markdown",
   "id": "93637d6b",
   "metadata": {},
   "source": [
    "### **Método Explicíto**"
   ]
  },
  {
   "cell_type": "code",
   "execution_count": null,
   "id": "401a14f0",
   "metadata": {},
   "outputs": [],
   "source": [
    "#COMPLETAR"
   ]
  },
  {
   "cell_type": "markdown",
   "id": "3e8d15fa",
   "metadata": {},
   "source": [
    "### **Método Implicíto**"
   ]
  },
  {
   "cell_type": "code",
   "execution_count": null,
   "id": "3c0d7441",
   "metadata": {},
   "outputs": [],
   "source": [
    "#COMPLETAR"
   ]
  },
  {
   "cell_type": "markdown",
   "id": "f9aae55d",
   "metadata": {},
   "source": [
    "#### Evaluación de las funciones con los parámetros: α = 1, ∆t = 0,001, ∆x = 0,05, T = 0,1"
   ]
  },
  {
   "cell_type": "code",
   "execution_count": null,
   "id": "b92db158",
   "metadata": {},
   "outputs": [],
   "source": [
    "#COMPLETAR"
   ]
  },
  {
   "cell_type": "markdown",
   "id": "4a086736",
   "metadata": {},
   "source": [
    "GIF - Con los valores devueltos en el caso anterior realizar un GIF de como al variar el instante de tiempo evolucionan los valores en cada lugar espacial. Incluir un pequeño análisis sobre el comportamiento de los métodos según los diferentes parámetros.\n"
   ]
  },
  {
   "cell_type": "code",
   "execution_count": null,
   "id": "6f9f6ac7",
   "metadata": {},
   "outputs": [],
   "source": [
    "#COMPLETAR"
   ]
  },
  {
   "cell_type": "markdown",
   "id": "5ca2b200",
   "metadata": {},
   "source": [
    "## **Parte 2: Ecuación de transporte**\n"
   ]
  },
  {
   "cell_type": "markdown",
   "id": "19678ecd",
   "metadata": {},
   "source": [
    "### **Método Explicíto**"
   ]
  },
  {
   "cell_type": "code",
   "execution_count": null,
   "id": "fc2b770a",
   "metadata": {},
   "outputs": [],
   "source": [
    "#COMPLETAR"
   ]
  },
  {
   "cell_type": "markdown",
   "id": "516fd42c",
   "metadata": {},
   "source": [
    "### **Método Implicíto**"
   ]
  },
  {
   "cell_type": "code",
   "execution_count": null,
   "id": "d06a4a57",
   "metadata": {},
   "outputs": [],
   "source": [
    "#COMPLETAR"
   ]
  },
  {
   "cell_type": "markdown",
   "id": "6cb985de",
   "metadata": {},
   "source": [
    "#### Evaluación de las funciones con los parámetros: α = 1, ∆t = 0,001, ∆x = 0,05, T = 0,1"
   ]
  },
  {
   "cell_type": "code",
   "execution_count": null,
   "id": "a61803ab",
   "metadata": {},
   "outputs": [],
   "source": [
    "#COMPLETAR"
   ]
  },
  {
   "cell_type": "markdown",
   "id": "422ec5aa",
   "metadata": {},
   "source": [
    "GIF - Con los valores devueltos en el caso anterior realizar un GIF de como al variar el instante de tiempo evolucionan los valores en cada lugar espacial. Incluir un pequeño análisis sobre el comportamiento de los métodos según los diferentes parámetros.\n"
   ]
  },
  {
   "cell_type": "code",
   "execution_count": null,
   "id": "d710e0c7",
   "metadata": {},
   "outputs": [],
   "source": [
    "#COMPLETAR"
   ]
  }
 ],
 "metadata": {
  "kernelspec": {
   "display_name": "songskip",
   "language": "python",
   "name": "python3"
  },
  "language_info": {
   "name": "python",
   "version": "3.11.13"
  }
 },
 "nbformat": 4,
 "nbformat_minor": 5
}
