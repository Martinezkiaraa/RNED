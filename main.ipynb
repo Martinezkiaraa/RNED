{
 "cells": [
  {
   "cell_type": "code",
   "execution_count": 4,
   "id": "027778f3",
   "metadata": {},
   "outputs": [],
   "source": [
    "from matplotlib import pyplot\n",
    "import pandas as pd\n",
    "import numpy as np"
   ]
  },
  {
   "cell_type": "markdown",
   "id": "858973e1",
   "metadata": {},
   "source": [
    "## **Parte 1: Ecuación del calor**"
   ]
  },
  {
   "cell_type": "markdown",
   "id": "5968f892",
   "metadata": {},
   "source": [
    "La función debe devolver una matriz cuya entrada en la posición (i, j) represente la aproximación\n",
    "numérica de la solución en el instante de tiempo t = i · ∆t y en la posición espacial x = j · ∆x."
   ]
  },
  {
   "cell_type": "markdown",
   "id": "93637d6b",
   "metadata": {},
   "source": [
    "### **Método Explicíto**"
   ]
  },
  {
   "cell_type": "code",
   "execution_count": 5,
   "id": "401a14f0",
   "metadata": {},
   "outputs": [
    {
     "name": "stdout",
     "output_type": "stream",
     "text": [
      "Función del método explícito para la ecuación del calor creada exitosamente!\n",
      "Parámetro r de estabilidad debe ser <= 0.5 para estabilidad numérica\n"
     ]
    }
   ],
   "source": [
    "def metodo_explicito_calor(alpha, f, dx, dt, T):\n",
    "    # Número de puntos espaciales (incluyendo fronteras)\n",
    "    N = int(1/dx) + 1\n",
    "    # Número de pasos temporales\n",
    "    M = int(T/dt) + 1\n",
    "    # Inicializar matriz solución\n",
    "    U = np.zeros((M, N))\n",
    "    # Vector de posiciones espaciales\n",
    "    x = np.linspace(0, 1, N)\n",
    "    # Aplicar condición inicial\n",
    "    U[0, :] = f(x)\n",
    "    # Condiciones de frontera (Dirichlet homogéneas)\n",
    "    U[:, 0] = 0   # u(0,t) = 0\n",
    "    U[:, -1] = 0  # u(1,t) = 0\n",
    "    \n",
    "    # Parámetro de estabilidad\n",
    "    r = alpha * dt / (dx**2)\n",
    "    \n",
    "    # Verificar condición de estabilidad (r <= 0.5 para estabilidad)\n",
    "    if r > 0.5:\n",
    "        print(f\"¡Advertencia! r = {r:.4f} > 0.5. El esquema puede ser inestable.\")\n",
    "        print(f\"Para estabilidad, dt debería ser <= {0.5 * dx**2 / alpha:.6f}\")\n",
    "    \n",
    "    for n in range(M-1):  # Para cada paso temporal\n",
    "        for j in range(1, N-1):  # Para puntos interiores\n",
    "            U[n+1, j] = U[n, j] + r * (U[n, j+1] - 2*U[n, j] + U[n, j-1])\n",
    "    \n",
    "    return U, x\n",
    "\n",
    "print(\"Función del método explícito para la ecuación del calor creada exitosamente!\")\n",
    "print(f\"Parámetro r de estabilidad debe ser <= 0.5 para estabilidad numérica\")"
   ]
  },
  {
   "cell_type": "markdown",
   "id": "3e8d15fa",
   "metadata": {},
   "source": [
    "### **Método Implicíto**"
   ]
  },
  {
   "cell_type": "code",
   "execution_count": null,
   "id": "3c0d7441",
   "metadata": {},
   "outputs": [],
   "source": [
    "#COMPLETAR"
   ]
  },
  {
   "cell_type": "markdown",
   "id": "f9aae55d",
   "metadata": {},
   "source": [
    "#### Evaluación de las funciones con los parámetros: α = 1, ∆t = 0,001, ∆x = 0,05, T = 0,1"
   ]
  },
  {
   "cell_type": "code",
   "execution_count": 7,
   "id": "b92db158",
   "metadata": {},
   "outputs": [
    {
     "name": "stdout",
     "output_type": "stream",
     "text": [
      "Dimensiones de la matriz solución: (101, 21)\n",
      "Número de puntos espaciales: 21\n",
      "Número de pasos temporales: 101\n",
      "\n",
      "Parámetro de estabilidad r = 0.4000\n",
      "Condición de estabilidad: r <= 0.5 → True\n",
      "\n",
      "Condición inicial (t=0):\n",
      "u(0.25, 0) = 0.5000\n",
      "u(0.50, 0) = 1.0000\n",
      "u(0.75, 0) = 0.5000\n",
      "\n",
      "Solución en t = T = 0.1:\n",
      "u(0.25, 0.1) = 0.2134\n",
      "u(0.50, 0.1) = 0.3019\n",
      "u(0.75, 0.1) = 0.2134\n"
     ]
    }
   ],
   "source": [
    "# Parámetros dados\n",
    "alpha = 1.0      # Coeficiente de difusión\n",
    "dt = 0.001       # Paso temporal\n",
    "dx = 0.05        # Paso espacial  \n",
    "T = 0.1          # Tiempo final\n",
    "\n",
    "# Definir condición inicial (corregida)\n",
    "def f(x):\n",
    "    # Función triangular: 1 - |2x - 1| para x en [0,1]\n",
    "    return 1 - np.abs(2 * x - 1)\n",
    "\n",
    "# Ejecutar método explícito\n",
    "U_explicito, x_grid = metodo_explicito_calor(alpha, f, dx, dt, T)\n",
    "\n",
    "print(f\"Dimensiones de la matriz solución: {U_explicito.shape}\")\n",
    "print(f\"Número de puntos espaciales: {len(x_grid)}\")\n",
    "print(f\"Número de pasos temporales: {U_explicito.shape[0]}\")\n",
    "\n",
    "# Calcular parámetro r para verificar estabilidad\n",
    "r = alpha * dt / (dx**2)\n",
    "print(f\"\\nParámetro de estabilidad r = {r:.4f}\")\n",
    "print(f\"Condición de estabilidad: r <= 0.5 → {r <= 0.5}\")\n",
    "\n",
    "# Mostrar algunos valores de la solución\n",
    "print(f\"\\nCondición inicial (t=0):\")\n",
    "print(f\"u(0.25, 0) = {U_explicito[0, int(0.25/dx)]:.4f}\")\n",
    "print(f\"u(0.50, 0) = {U_explicito[0, int(0.50/dx)]:.4f}\")\n",
    "print(f\"u(0.75, 0) = {U_explicito[0, int(0.75/dx)]:.4f}\")\n",
    "\n",
    "print(f\"\\nSolución en t = T = {T}:\")\n",
    "print(f\"u(0.25, {T}) = {U_explicito[-1, int(0.25/dx)]:.4f}\")\n",
    "print(f\"u(0.50, {T}) = {U_explicito[-1, int(0.50/dx)]:.4f}\")\n",
    "print(f\"u(0.75, {T}) = {U_explicito[-1, int(0.75/dx)]:.4f}\")"
   ]
  },
  {
   "cell_type": "markdown",
   "id": "4a086736",
   "metadata": {},
   "source": [
    "GIF - Con los valores devueltos en el caso anterior realizar un GIF de como al variar el instante de tiempo evolucionan los valores en cada lugar espacial. Incluir un pequeño análisis sobre el comportamiento de los métodos según los diferentes parámetros.\n"
   ]
  },
  {
   "cell_type": "code",
   "execution_count": null,
   "id": "6f9f6ac7",
   "metadata": {},
   "outputs": [],
   "source": [
    "# Visualización de la evolución temporal\n",
    "import matplotlib.pyplot as plt\n",
    "from matplotlib.animation import FuncAnimation\n",
    "\n",
    "# Crear gráfico de evolución temporal\n",
    "fig, (ax1, ax2) = plt.subplots(1, 2, figsize=(15, 6))\n",
    "\n",
    "# Gráfico 1: Perfiles de temperatura en diferentes tiempos\n",
    "times_to_plot = [0, int(0.25*len(U_explicito)), int(0.5*len(U_explicito)), \n",
    "                 int(0.75*len(U_explicito)), -1]\n",
    "time_labels = ['t=0', 't=T/4', 't=T/2', 't=3T/4', f't=T={T}']\n",
    "\n",
    "ax1.set_title('Evolución de la temperatura en diferentes tiempos')\n",
    "ax1.set_xlabel('Posición x')\n",
    "ax1.set_ylabel('Temperatura u(x,t)')\n",
    "ax1.grid(True, alpha=0.3)\n",
    "\n",
    "for i, time_idx in enumerate(times_to_plot):\n",
    "    ax1.plot(x_grid, U_explicito[time_idx, :], \n",
    "             label=time_labels[i], marker='o', markersize=4)\n",
    "\n",
    "ax1.legend()\n",
    "\n",
    "# Gráfico 2: Mapa de calor (heatmap)\n",
    "im = ax2.imshow(U_explicito, aspect='auto', origin='lower', \n",
    "                extent=[0, 1, 0, T], cmap='hot')\n",
    "ax2.set_title('Mapa de calor: Evolución espacio-temporal')\n",
    "ax2.set_xlabel('Posición x')\n",
    "ax2.set_ylabel('Tiempo t')\n",
    "plt.colorbar(im, ax=ax2, label='Temperatura u(x,t)')\n",
    "\n",
    "plt.tight_layout()\n",
    "plt.show()\n",
    "\n",
    "# Análisis de conservación de energía\n",
    "def calcular_energia(U, dx):\n",
    "    \"\"\"Calcula la energía total en cada instante de tiempo\"\"\"\n",
    "    # Energía = integral de u²(x,t) dx ≈ suma de u²(x,t) * dx\n",
    "    energia = []\n",
    "    for n in range(U.shape[0]):\n",
    "        energia.append(np.sum(U[n, :]**2) * dx)\n",
    "    return np.array(energia)\n",
    "\n",
    "energia = calcular_energia(U_explicito, dx)\n",
    "tiempo = np.linspace(0, T, len(energia))\n",
    "\n",
    "plt.figure(figsize=(10, 6))\n",
    "plt.plot(tiempo, energia, 'b-', linewidth=2)\n",
    "plt.title('Evolución de la energía total del sistema')\n",
    "plt.xlabel('Tiempo t')\n",
    "plt.ylabel('Energía total')\n",
    "plt.grid(True, alpha=0.3)\n",
    "plt.show()\n",
    "\n",
    "print(f\"Energía inicial: {energia[0]:.6f}\")\n",
    "print(f\"Energía final: {energia[-1]:.6f}\")\n",
    "print(f\"Pérdida de energía: {((energia[0] - energia[-1])/energia[0]*100):.2f}%\")"
   ]
  },
  {
   "cell_type": "markdown",
   "id": "5ca2b200",
   "metadata": {},
   "source": [
    "## **Parte 2: Ecuación de transporte**\n"
   ]
  },
  {
   "cell_type": "markdown",
   "id": "19678ecd",
   "metadata": {},
   "source": [
    "### **Método Explicíto**"
   ]
  },
  {
   "cell_type": "code",
   "execution_count": null,
   "id": "fc2b770a",
   "metadata": {},
   "outputs": [],
   "source": [
    "#COMPLETAR\n"
   ]
  },
  {
   "cell_type": "markdown",
   "id": "516fd42c",
   "metadata": {},
   "source": [
    "### **Método Implicíto**"
   ]
  },
  {
   "cell_type": "code",
   "execution_count": null,
   "id": "d06a4a57",
   "metadata": {},
   "outputs": [],
   "source": [
    "#COMPLETAR"
   ]
  },
  {
   "cell_type": "markdown",
   "id": "6cb985de",
   "metadata": {},
   "source": [
    "#### Evaluación de las funciones con los parámetros: α = 1, ∆t = 0,001, ∆x = 0,05, T = 0,1"
   ]
  },
  {
   "cell_type": "code",
   "execution_count": null,
   "id": "a61803ab",
   "metadata": {},
   "outputs": [],
   "source": [
    "#COMPLETAR\n",
    "# Definir condición inicial\n",
    "def f(x):\n",
    "    return np.sin(np.pi * x)\n"
   ]
  },
  {
   "cell_type": "markdown",
   "id": "422ec5aa",
   "metadata": {},
   "source": [
    "GIF - Con los valores devueltos en el caso anterior realizar un GIF de como al variar el instante de tiempo evolucionan los valores en cada lugar espacial. Incluir un pequeño análisis sobre el comportamiento de los métodos según los diferentes parámetros.\n"
   ]
  },
  {
   "cell_type": "code",
   "execution_count": null,
   "id": "d710e0c7",
   "metadata": {},
   "outputs": [],
   "source": [
    "#COMPLETAR"
   ]
  }
 ],
 "metadata": {
  "kernelspec": {
   "display_name": "songskip",
   "language": "python",
   "name": "python3"
  },
  "language_info": {
   "codemirror_mode": {
    "name": "ipython",
    "version": 3
   },
   "file_extension": ".py",
   "mimetype": "text/x-python",
   "name": "python",
   "nbconvert_exporter": "python",
   "pygments_lexer": "ipython3",
   "version": "3.11.13"
  }
 },
 "nbformat": 4,
 "nbformat_minor": 5
}
