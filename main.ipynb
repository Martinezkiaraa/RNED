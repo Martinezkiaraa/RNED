{
 "cells": [
  {
   "cell_type": "markdown",
   "id": "858973e1",
   "metadata": {},
   "source": [
    "## **Parte 1: Ecuación del calor**"
   ]
  },
  {
   "cell_type": "markdown",
   "id": "b5538628",
   "metadata": {},
   "source": [
    "### **Consigna 3:**\n",
    "\n",
    "La función debe devolver una matriz cuya entrada en la posición (i, j) represente la aproximación numérica de la solución en el instante de tiempo t = i · ∆t y en la posición espacial x = j · ∆x."
   ]
  },
  {
   "cell_type": "markdown",
   "id": "93637d6b",
   "metadata": {},
   "source": [
    "#### **Método Explícito**"
   ]
  },
  {
   "cell_type": "code",
   "execution_count": null,
   "id": "401a14f0",
   "metadata": {},
   "outputs": [],
   "source": [
    "import numpy as np\n",
    "\n",
    "def metodo_explicito_calor(alpha, f, dx, dt, T):\n",
    "    # Número de puntos espaciales (incluyendo fronteras)\n",
    "    N = int(1/dx) + 1\n",
    "    # Número de pasos temporales\n",
    "    M = int(T/dt) + 1\n",
    "    # Inicializar matriz solución\n",
    "    U = np.zeros((M, N))\n",
    "    # Vector de posiciones espaciales\n",
    "    x = np.linspace(0, 1, N)\n",
    "    # Aplicar condición inicial\n",
    "    U[0, :] = f(x)\n",
    "    # Condiciones de frontera (Dirichlet homogéneas)\n",
    "    U[:, 0] = 0   # u(0,t) = 0\n",
    "    U[:, -1] = 0  # u(1,t) = 0\n",
    "    \n",
    "    # Parámetro de estabilidad\n",
    "    r = alpha * dt / (dx**2)\n",
    "    \n",
    "    # Verificar condición de estabilidad (r <= 0.5 para estabilidad)\n",
    "    if r > 0.5:\n",
    "        print(f\"¡Advertencia! r = {r:.4f} > 0.5. El esquema puede ser inestable.\")\n",
    "        print(f\"Para estabilidad, dt debería ser <= {0.5 * dx**2 / alpha:.6f}\")\n",
    "    \n",
    "    for n in range(M-1):  # Para cada paso temporal\n",
    "        for j in range(1, N-1):  # Para puntos interiores\n",
    "            U[n+1, j] = U[n, j] + r * (U[n, j+1] - 2*U[n, j] + U[n, j-1])\n",
    "    \n",
    "    return U, x\n",
    "\n",
    "print(\"Función del método explícito para la ecuación del calor creada exitosamente!\")\n",
    "print(f\"Parámetro r de estabilidad debe ser <= 0.5 para estabilidad numérica\")"
   ]
  },
  {
   "cell_type": "markdown",
   "id": "3e8d15fa",
   "metadata": {},
   "source": [
    "#### **Método Implícito**"
   ]
  },
  {
   "cell_type": "code",
   "execution_count": null,
   "id": "3c0d7441",
   "metadata": {},
   "outputs": [],
   "source": [
    "import numpy as np\n",
    "\n",
    "def metodo_implicito_calor(alpha, f, dx, dt, T):\n",
    "    # Número de puntos espaciales (incluyendo fronteras)\n",
    "    N = int(1/dx) + 1\n",
    "    # Número de pasos temporales\n",
    "    M = int(T/dt) + 1\n",
    "    # Inicializar matriz solución\n",
    "    U = np.zeros((M, N))\n",
    "    # Vector de posiciones espaciales\n",
    "    x = np.linspace(0, 1, N)\n",
    "    # Aplicar condición inicial\n",
    "    U[0, :] = f(x)\n",
    "    # Condiciones de frontera (Dirichlet homogéneas)\n",
    "    U[:, 0] = 0   # u(0,t) = 0\n",
    "    U[:, -1] = 0  # u(1,t) = 0\n",
    "    \n",
    "    # Parámetro de estabilidad\n",
    "    r = alpha * dt / (dx**2)\n",
    "\n",
    "    # Construcción de la matriz A (tridiagonal)\n",
    "    A = np.zeros((N-2, N-2))\n",
    "    for i in range(N-2):\n",
    "        A[i, i] = 1 + 2*r\n",
    "        if i > 0:\n",
    "            A[i, i-1] = -r\n",
    "        if i < N-3:\n",
    "            A[i, i+1] = -r\n",
    "\n",
    "    # Iteración temporal\n",
    "    for n in range(M-1):\n",
    "        # Vector lado derecho (nodos internos)\n",
    "        b = U[n, 1:-1]\n",
    "        # Resolver sistema lineal A * U_next = b\n",
    "        U[n+1, 1:-1] = np.linalg.solve(A, b)\n",
    "\n",
    "    return U, x\n",
    "\n",
    "print(\"Función del método implícito para la ecuación del calor creada exitosamente!\")"
   ]
  },
  {
   "cell_type": "markdown",
   "id": "59627dc9",
   "metadata": {},
   "source": [
    "### **Consigna 4:**\n",
    "\n",
    "Evaluación de las funciones con los parámetros: α = 1, ∆t = 0,001, ∆x = 0,05, T = 0,1"
   ]
  },
  {
   "cell_type": "markdown",
   "id": "e0d41aba",
   "metadata": {},
   "source": [
    "**Con función f(x) = 1 - |2x - 1| para x en [0,1]**"
   ]
  },
  {
   "cell_type": "code",
   "execution_count": null,
   "id": "b92db158",
   "metadata": {},
   "outputs": [],
   "source": [
    "# Parámetros dados\n",
    "alpha = 1.0      # Coeficiente de difusión\n",
    "dt = 0.001       # Paso temporal\n",
    "dx = 0.05        # Paso espacial  \n",
    "T = 0.1          # Tiempo final\n",
    "\n",
    "# Definir condición inicial\n",
    "def f(x):\n",
    "    # Función triangular: 1 - |2x - 1| para x en [0,1]\n",
    "    return 1 - np.abs(2 * x - 1)\n",
    "\n",
    "# Ejecutar método explícito\n",
    "U_explicito, x_grid = metodo_explicito_calor(alpha, f, dx, dt, T)\n",
    "\n",
    "print(f\"Dimensiones de la matriz solución (explícito): {U_explicito.shape}\")\n",
    "print(f\"Número de puntos espaciales: {len(x_grid)}\")\n",
    "print(f\"Número de pasos temporales: {U_explicito.shape[0]}\")\n",
    "\n",
    "# Calcular parámetro r para verificar estabilidad\n",
    "r = alpha * dt / (dx**2)\n",
    "print(f\"\\nParámetro de estabilidad r = {r:.4f}\")\n",
    "print(f\"Condición de estabilidad: r <= 0.5 → {r <= 0.5}\")\n",
    "\n",
    "# Mostrar algunos valores de la solución\n",
    "print(f\"\\nCondición inicial (t=0):\")\n",
    "print(f\"u(0.25, 0) = {U_explicito[0, int(0.25/dx)]:.4f}\")\n",
    "print(f\"u(0.50, 0) = {U_explicito[0, int(0.50/dx)]:.4f}\")\n",
    "print(f\"u(0.75, 0) = {U_explicito[0, int(0.75/dx)]:.4f}\")\n",
    "\n",
    "print(f\"\\nSolución en t = T = {T}:\")\n",
    "print(f\"u(0.25, {T}) = {U_explicito[-1, int(0.25/dx)]:.4f}\")\n",
    "print(f\"u(0.50, {T}) = {U_explicito[-1, int(0.50/dx)]:.4f}\")\n",
    "print(f\"u(0.75, {T}) = {U_explicito[-1, int(0.75/dx)]:.4f}\")\n",
    "\n",
    "# ---------------------------------------------------------\n",
    "\n",
    "# Ejecutar método implícito\n",
    "U_implicito, x_grid = metodo_implicito_calor(alpha, f, dx, dt, T)\n",
    "\n",
    "print(f\"Dimensiones de la matriz solución: {U_implicito.shape}\")\n",
    "print(f\"Número de puntos espaciales: {len(x_grid)}\")\n",
    "print(f\"Número de pasos temporales: {U_implicito.shape[0]}\")\n",
    "\n",
    "# Calcular parámetro r (solo informativo en implícito, porque siempre es estable)\n",
    "print(f\"\\nParámetro r = {r:.4f}\")\n",
    "print(\"El método implícito es incondicionalmente estable, no depende de r.\")\n",
    "\n",
    "# Mostrar algunos valores de la solución\n",
    "print(f\"\\nCondición inicial (t=0):\")\n",
    "print(f\"u(0.25, 0) = {U_implicito[0, int(0.25/dx)]:.4f}\")\n",
    "print(f\"u(0.50, 0) = {U_implicito[0, int(0.50/dx)]:.4f}\")\n",
    "print(f\"u(0.75, 0) = {U_implicito[0, int(0.75/dx)]:.4f}\")\n",
    "\n",
    "print(f\"\\nSolución en t = T = {T}:\")\n",
    "print(f\"u(0.25, {T}) = {U_implicito[-1, int(0.25/dx)]:.4f}\")\n",
    "print(f\"u(0.50, {T}) = {U_implicito[-1, int(0.50/dx)]:.4f}\")\n",
    "print(f\"u(0.75, {T}) = {U_implicito[-1, int(0.75/dx)]:.4f}\")"
   ]
  },
  {
   "cell_type": "markdown",
   "id": "16763ff0",
   "metadata": {},
   "source": [
    "Los resultados muestran justo lo que se espera:\n",
    "\n",
    "* **Explícito e Implícito** arrancan de la misma condición inicial (triángulo simétrico con valores 0.5 – 1.0 – 0.5).\n",
    "* Después de evolucionar hasta $t = 0.1$, ambos métodos dan soluciones muy similares:\n",
    "\n",
    "  * Explícito: $u(0.50, 0.1) = 0.3019$\n",
    "  * Implícito: $u(0.50, 0.1) = 0.3048$\n",
    "\n",
    "Esa pequeña diferencia es normal:\n",
    "\n",
    "* El **explícito** difunde un poco más rápido (tiende a suavizar más).\n",
    "* El **implícito** es más estable y suele ser “más difusivo” en pasos largos, pero con estos parámetros casi no se nota.\n",
    "\n",
    "Con estos números, se puede concluir que los dos métodos están resolviendo bien el problema, y que el implícito efectivamente **mantiene la estabilidad sin importar el valor de $r$**."
   ]
  },
  {
   "cell_type": "markdown",
   "id": "d669e728",
   "metadata": {},
   "source": [
    "**Algunas visualizaciones**"
   ]
  },
  {
   "cell_type": "code",
   "execution_count": null,
   "id": "bb9af733",
   "metadata": {},
   "outputs": [],
   "source": [
    "import matplotlib.pyplot as plt\n",
    "\n",
    "def graficos(U, x):\n",
    "    # Crear gráfico de evolución temporal\n",
    "    fig, (ax1, ax2) = plt.subplots(1, 2, figsize=(15, 6))\n",
    "\n",
    "    # Gráfico 1: Perfiles de temperatura en diferentes tiempos\n",
    "    times_to_plot = [0, int(0.25*len(U)), int(0.5*len(U)), \n",
    "                    int(0.75*len(U)), -1]\n",
    "    time_labels = ['t=0', 't=T/4', 't=T/2', 't=3T/4', f't=T={T}']\n",
    "\n",
    "    ax1.set_title('Evolución (explícito) en diferentes tiempos')\n",
    "    ax1.set_xlabel('Posición x')\n",
    "    ax1.set_ylabel('Temperatura u(x,t)')\n",
    "    ax1.grid(True, alpha=0.3)\n",
    "\n",
    "    for i, time_idx in enumerate(times_to_plot):\n",
    "        ax1.plot(x_grid, U[time_idx, :], \n",
    "                label=time_labels[i], marker='o', markersize=4)\n",
    "\n",
    "    ax1.legend()\n",
    "\n",
    "    # Gráfico 2: Mapa de calor (heatmap)\n",
    "    im = ax2.imshow(U, aspect='auto', origin='lower', \n",
    "                    extent=[0, 1, 0, T], cmap='hot')\n",
    "    ax2.set_title('Mapa de calor (explícito)')\n",
    "    ax2.set_xlabel('Posición x')\n",
    "    ax2.set_ylabel('Tiempo t')\n",
    "    plt.colorbar(im, ax=ax2, label='Temperatura u(x,t)')\n",
    "\n",
    "    plt.tight_layout()\n",
    "    plt.show()\n",
    "\n",
    "def graficos_comparacion(U_explicito, U_implicito, x_grid):\n",
    "    # # Índices de tiempos a graficar\n",
    "    times_to_plot = [0, int(0.25*len(U_explicito)), int(0.5*len(U_explicito)), \n",
    "                    int(0.75*len(U_explicito)), -1]\n",
    "    time_labels = ['t=0', 't=T/4', 't=T/2', 't=3T/4', f't=T={T}']\n",
    "\n",
    "    plt.figure(figsize=(12,8))\n",
    "\n",
    "    for i, time_idx in enumerate(times_to_plot):\n",
    "        plt.subplot(2, 3, i+1)  # 2 filas x 3 columnas de subplots\n",
    "        plt.plot(x_grid, U_explicito[time_idx, :], 'bo-', label='Explícito')\n",
    "        plt.plot(x_grid, U_implicito[time_idx, :], 'rs--', label='Implícito')\n",
    "        plt.title(time_labels[i])\n",
    "        plt.xlabel('Posición x')\n",
    "        plt.ylabel('u(x,t)')\n",
    "        plt.grid(True, alpha=0.3)\n",
    "        if i == 0:  # mostrar leyenda solo en el primer gráfico\n",
    "            plt.legend()\n",
    "\n",
    "    plt.tight_layout()\n",
    "    plt.show()\n",
    "\n",
    "# Visualización de la evolución temporal - Método Explícito\n",
    "graficos(U_explicito, x_grid)\n",
    "\n",
    "# Visualización de la evolución temporal - Método Implícito\n",
    "graficos(U_implicito, x_grid)\n",
    "\n",
    "# Comparación Explícito vs Implícito en varios tiempos\n",
    "graficos_comparacion(U_explicito, U_implicito, x_grid)"
   ]
  },
  {
   "cell_type": "markdown",
   "id": "f50fe57a",
   "metadata": {},
   "source": [
    "Algunas observaciones:\n",
    "- En t=0 ambos métodos coinciden perfectamente con la condición inicial.\n",
    "- A medida que avanza el tiempo (t=T/4, T/2, 3T/4, T), las curvas siguen siendo casi idénticas, confirmando que ambos esquemas son consistentes.\n",
    "- La diferencia entre ellos es muy pequeña, apenas visible (los puntos rojos del implícito se superponen con la línea azul del explícito).\n",
    "- Esto era de esperarse porque el paso temporal es suficientemente chico y estamos dentro de la condición de estabilidad del explícito."
   ]
  },
  {
   "cell_type": "code",
   "execution_count": null,
   "id": "35e61c5e",
   "metadata": {},
   "outputs": [],
   "source": [
    "# Diferencia absoluta en el tiempo final\n",
    "\n",
    "def grafico_error(U_explicito, U_implicito, x_grid):\n",
    "    diff = np.abs(U_explicito[-1, :] - U_implicito[-1, :])\n",
    "\n",
    "    plt.figure(figsize=(8,5))\n",
    "    plt.plot(x_grid, diff, 'm-o', label='|Explícito - Implícito|')\n",
    "    plt.title('Diferencia absoluta entre métodos en t=T')\n",
    "    plt.xlabel('Posición x')\n",
    "    plt.ylabel('Error absoluto')\n",
    "    plt.grid(True, alpha=0.3)\n",
    "    plt.legend()\n",
    "    plt.show()\n",
    "\n",
    "    print(f\"Error máximo en t=T: {np.max(diff):.6e}\")\n",
    "    print(f\"Error medio en t=T: {np.mean(diff):.6e}\")\n",
    "\n",
    "grafico_error(U_explicito, U_implicito, x_grid)"
   ]
  },
  {
   "cell_type": "markdown",
   "id": "e67649e8",
   "metadata": {},
   "source": [
    "**Con función f(x) particionada**"
   ]
  },
  {
   "cell_type": "code",
   "execution_count": null,
   "id": "8970ae93",
   "metadata": {},
   "outputs": [],
   "source": [
    "# Definir condición inicial por tramos sin máscaras\n",
    "def f_scalar(x):\n",
    "    if 0 <= x < 0.25:\n",
    "        return 4 * x\n",
    "    elif 0.25 <= x < 0.5:\n",
    "        return -2 * x + 1.5\n",
    "    elif 0.5 <= x < 0.75:\n",
    "        return 2 * x - 0.5\n",
    "    elif 0.75 <= x <= 1:\n",
    "        return -4 * x + 4\n",
    "    else:\n",
    "        return 0.0  # por seguridad fuera del dominio\n",
    "\n",
    "# Vectorizar para que funcione sobre arrays de NumPy\n",
    "f_scalar = np.vectorize(f_scalar)\n",
    "\n",
    "U_explicito_2, x_grid_2 = metodo_explicito_calor(alpha, f_scalar, dx, dt, T)\n",
    "U_implicito_2, x_grid_2 = metodo_explicito_calor(alpha, f_scalar, dx, dt, T)"
   ]
  },
  {
   "cell_type": "markdown",
   "id": "5a6feac8",
   "metadata": {},
   "source": [
    "**Algunas visualizaciones**"
   ]
  },
  {
   "cell_type": "code",
   "execution_count": null,
   "id": "c59f5a82",
   "metadata": {},
   "outputs": [],
   "source": [
    "# Visualización de la evolución temporal - Método Explícito\n",
    "graficos(U_explicito_2, x_grid_2)\n",
    "\n",
    "# Visualización de la evolución temporal - Método Implícito\n",
    "graficos(U_implicito_2, x_grid_2)\n",
    "\n",
    "# Comparación Explícito vs Implícito en varios tiempos\n",
    "graficos_comparacion(U_explicito_2, U_implicito_2, x_grid_2)\n",
    "\n",
    "# Diferencia absoluta en el tiempo final\n",
    "grafico_error(U_explicito_2, U_implicito_2, x_grid_2)"
   ]
  },
  {
   "cell_type": "markdown",
   "id": "cc093924",
   "metadata": {},
   "source": [
    "### **Consigna 5:**\n",
    "\n",
    "GIF - Con los valores devueltos en el caso anterior realizar un GIF de como al variar el instante de tiempo evolucionan los valores en cada lugar espacial. Incluir un pequeño análisis sobre el comportamiento de los métodos según los diferentes parámetros."
   ]
  },
  {
   "cell_type": "markdown",
   "id": "5ca2b200",
   "metadata": {},
   "source": [
    "## **Parte 2: Ecuación de transporte**\n"
   ]
  },
  {
   "cell_type": "markdown",
   "id": "bc6a8838",
   "metadata": {},
   "source": [
    "### **Consigna 3:**\n",
    "\n",
    "La función debe devolver una matriz cuya entrada en la posición (i, j) represente la aproximación numérica de la solución en el instante de tiempo t = i · ∆t y en la posición espacial x = j · ∆x."
   ]
  },
  {
   "cell_type": "markdown",
   "id": "19678ecd",
   "metadata": {},
   "source": [
    "#### **Método Explícito**"
   ]
  },
  {
   "cell_type": "code",
   "execution_count": null,
   "id": "fc2b770a",
   "metadata": {},
   "outputs": [],
   "source": [
    "import numpy as np\n",
    "\n",
    "def metodo_explicito_transporte(alpha, f, dx, dt, T):\n",
    "    N = int(1/dx) + 1\n",
    "    M = int(T/dt) + 1\n",
    "    U = np.zeros((M, N))\n",
    "    x = np.linspace(0, 1, N)\n",
    "    U[0, :] = f(x)\n",
    "    U[:, 0] = 0\n",
    "    U[:, -1] = 0\n",
    "    \n",
    "    r = alpha * dt / dx\n",
    "    \n",
    "    if r > 1:\n",
    "        print(f\"¡Advertencia! r = {r:.4f} > 1. El esquema puede ser inestable.\")\n",
    "        print(f\"Para estabilidad, dt debería ser <= {dx/alpha:.6f}\")\n",
    "    \n",
    "    for n in range(M-1):\n",
    "        for j in range(1, N):\n",
    "            U[n+1, j] = (1-r)*U[n, j] + r*U[n, j-1]\n",
    "    \n",
    "    return U, x\n",
    "\n",
    "print(\"Función del método explícito para la ecuación de transporte creada exitosamente!\")\n",
    "print(f\"Parámetro r de estabilidad debe ser <= 1 para estabilidad numérica\")"
   ]
  },
  {
   "cell_type": "markdown",
   "id": "516fd42c",
   "metadata": {},
   "source": [
    "#### **Método Implícito**"
   ]
  },
  {
   "cell_type": "code",
   "execution_count": null,
   "id": "d06a4a57",
   "metadata": {},
   "outputs": [],
   "source": [
    "#COMPLETAR"
   ]
  },
  {
   "cell_type": "markdown",
   "id": "6cb985de",
   "metadata": {},
   "source": [
    "### **Consigna 4:**\n",
    "\n",
    "Evaluación de las funciones con los parámetros: α = 1, ∆t = 0,001, ∆x = 0,05, T = 0,1"
   ]
  },
  {
   "cell_type": "markdown",
   "id": "debc1bdc",
   "metadata": {},
   "source": [
    "**Con función f(x) = COMPLETAR**"
   ]
  },
  {
   "cell_type": "code",
   "execution_count": null,
   "id": "a61803ab",
   "metadata": {},
   "outputs": [],
   "source": [
    "# Definir condición inicial\n",
    "def f(x):\n",
    "    return np.sin(np.pi * x)\n",
    "\n",
    "# Ejecutar método explícito\n",
    "U_explicito, x_grid = metodo_explicito_calor(alpha, f, dx, dt, T)\n",
    "\n",
    "print(f\"Dimensiones de la matriz solución (explícito): {U_explicito.shape}\")\n",
    "print(f\"Número de puntos espaciales: {len(x_grid)}\")\n",
    "print(f\"Número de pasos temporales: {U_explicito.shape[0]}\")\n",
    "\n",
    "# Calcular parámetro r para verificar estabilidad\n",
    "print(f\"\\nParámetro de estabilidad r = {r:.4f}\")\n",
    "print(f\"Condición de estabilidad: r <= 0.5 → {r <= 0.5}\")\n",
    "\n",
    "# Mostrar algunos valores de la solución\n",
    "print(f\"\\nCondición inicial (t=0):\")\n",
    "print(f\"u(0.25, 0) = {U_explicito[0, int(0.25/dx)]:.4f}\")\n",
    "print(f\"u(0.50, 0) = {U_explicito[0, int(0.50/dx)]:.4f}\")\n",
    "print(f\"u(0.75, 0) = {U_explicito[0, int(0.75/dx)]:.4f}\")\n",
    "\n",
    "print(f\"\\nSolución en t = T = {T}:\")\n",
    "print(f\"u(0.25, {T}) = {U_explicito[-1, int(0.25/dx)]:.4f}\")\n",
    "print(f\"u(0.50, {T}) = {U_explicito[-1, int(0.50/dx)]:.4f}\")\n",
    "print(f\"u(0.75, {T}) = {U_explicito[-1, int(0.75/dx)]:.4f}\")\n",
    "\n",
    "# ---------------------------------------------------------\n",
    "\n",
    "# Ejecutar método implícito\n",
    "U_implicito, x_grid = metodo_implicito_calor(alpha, f, dx, dt, T)\n",
    "\n",
    "print(f\"Dimensiones de la matriz solución: {U_implicito.shape}\")\n",
    "print(f\"Número de puntos espaciales: {len(x_grid)}\")\n",
    "print(f\"Número de pasos temporales: {U_implicito.shape[0]}\")\n",
    "\n",
    "# Calcular parámetro r (solo informativo en implícito, porque siempre es estable)\n",
    "print(f\"\\nParámetro r = {r:.4f}\")\n",
    "print(\"El método implícito es incondicionalmente estable, no depende de r.\")\n",
    "\n",
    "# Mostrar algunos valores de la solución\n",
    "print(f\"\\nCondición inicial (t=0):\")\n",
    "print(f\"u(0.25, 0) = {U_implicito[0, int(0.25/dx)]:.4f}\")\n",
    "print(f\"u(0.50, 0) = {U_implicito[0, int(0.50/dx)]:.4f}\")\n",
    "print(f\"u(0.75, 0) = {U_implicito[0, int(0.75/dx)]:.4f}\")\n",
    "\n",
    "print(f\"\\nSolución en t = T = {T}:\")\n",
    "print(f\"u(0.25, {T}) = {U_implicito[-1, int(0.25/dx)]:.4f}\")\n",
    "print(f\"u(0.50, {T}) = {U_implicito[-1, int(0.50/dx)]:.4f}\")\n",
    "print(f\"u(0.75, {T}) = {U_implicito[-1, int(0.75/dx)]:.4f}\")"
   ]
  },
  {
   "cell_type": "markdown",
   "id": "93f8a8c2",
   "metadata": {},
   "source": [
    "Los resultados muestran:\n",
    "\n",
    "COMPLETAR"
   ]
  },
  {
   "cell_type": "markdown",
   "id": "5f94a4e3",
   "metadata": {},
   "source": [
    "**Algunas visualizaciones**"
   ]
  },
  {
   "cell_type": "code",
   "execution_count": null,
   "id": "1cb6a399",
   "metadata": {},
   "outputs": [],
   "source": [
    "# Visualización de la evolución temporal - Método Explícito\n",
    "graficos(U_explicito, x_grid)\n",
    "\n",
    "# Visualización de la evolución temporal - Método Implícito\n",
    "graficos(U_implicito, x_grid)\n",
    "\n",
    "# Comparación Explícito vs Implícito en varios tiempos\n",
    "graficos_comparacion(U_explicito, U_implicito, x_grid)"
   ]
  },
  {
   "cell_type": "markdown",
   "id": "10bc2520",
   "metadata": {},
   "source": [
    "Algunas observaciones:\n",
    "\n",
    "COMPLETAR"
   ]
  },
  {
   "cell_type": "code",
   "execution_count": null,
   "id": "37a2d2c0",
   "metadata": {},
   "outputs": [],
   "source": [
    "# Diferencia absoluta en el tiempo final\n",
    "grafico_error(U_explicito, U_implicito, x_grid)"
   ]
  },
  {
   "cell_type": "markdown",
   "id": "d54bb311",
   "metadata": {},
   "source": [
    "**Con función f(x) particionada**"
   ]
  },
  {
   "cell_type": "code",
   "execution_count": null,
   "id": "5c8db7eb",
   "metadata": {},
   "outputs": [],
   "source": [
    "U_explicito_2, x_grid_2 = metodo_explicito_calor(alpha, f_scalar, dx, dt, T)\n",
    "U_implicito_2, x_grid_2 = metodo_explicito_calor(alpha, f_scalar, dx, dt, T)"
   ]
  },
  {
   "cell_type": "markdown",
   "id": "ea9e39f0",
   "metadata": {},
   "source": [
    "**Algunas visualizaciones**"
   ]
  },
  {
   "cell_type": "code",
   "execution_count": null,
   "id": "b4c1e474",
   "metadata": {},
   "outputs": [],
   "source": [
    "# Visualización de la evolución temporal - Método Explícito\n",
    "graficos(U_explicito_2, x_grid_2)\n",
    "\n",
    "# Visualización de la evolución temporal - Método Implícito\n",
    "graficos(U_implicito_2, x_grid_2)\n",
    "\n",
    "# Comparación Explícito vs Implícito en varios tiempos\n",
    "graficos_comparacion(U_explicito_2, U_implicito_2, x_grid_2)\n",
    "\n",
    "# Diferencia absoluta en el tiempo final\n",
    "grafico_error(U_explicito_2, U_implicito_2, x_grid_2)"
   ]
  },
  {
   "cell_type": "markdown",
   "id": "6f241934",
   "metadata": {},
   "source": [
    "### **Consigna 5:**\n",
    "\n",
    "GIF - Con los valores devueltos en el caso anterior realizar un GIF de como al variar el instante de tiempo evolucionan los valores en cada lugar espacial. Incluir un pequeño análisis sobre el comportamiento de los métodos según los diferentes parámetros."
   ]
  },
  {
   "cell_type": "code",
   "execution_count": null,
   "id": "d710e0c7",
   "metadata": {},
   "outputs": [],
   "source": [
    "#COMPLETAR"
   ]
  }
 ],
 "metadata": {
  "kernelspec": {
   "display_name": "metodos",
   "language": "python",
   "name": "python3"
  },
  "language_info": {
   "codemirror_mode": {
    "name": "ipython",
    "version": 3
   },
   "file_extension": ".py",
   "mimetype": "text/x-python",
   "name": "python",
   "nbconvert_exporter": "python",
   "pygments_lexer": "ipython3",
   "version": "3.10.16"
  }
 },
 "nbformat": 4,
 "nbformat_minor": 5
}
